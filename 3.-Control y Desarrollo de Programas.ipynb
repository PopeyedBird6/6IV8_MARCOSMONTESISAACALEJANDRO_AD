{
 "cells": [
  {
   "cell_type": "markdown",
   "id": "89030283-116c-4976-8e73-b89f8381e6f3",
   "metadata": {},
   "source": [
    "# 3.- Control y desarrollo de Programas"
   ]
  },
  {
   "cell_type": "markdown",
   "id": "dbbe85a8-e01d-4b2f-a971-a40e971242ad",
   "metadata": {},
   "source": [
    "## 3.3 Algoritmos"
   ]
  },
  {
   "cell_type": "markdown",
   "id": "1e24fd7e-76ad-4e6f-80db-907c3ddae4d5",
   "metadata": {},
   "source": [
    "#### Por tu cuenta\n",
    "\n",
    "Escribe el programa de python que realice las instrucciones en el algoritmo 3.3 de tu manual."
   ]
  },
  {
   "cell_type": "code",
   "execution_count": 15,
   "id": "ea7857f1-87e9-4e21-9e39-83ab4bd47a0a",
   "metadata": {},
   "outputs": [
    {
     "name": "stdout",
     "output_type": "stream",
     "text": [
      "Eres mayorcito, o sea que puedes votar\n"
     ]
    }
   ],
   "source": [
    "anonacimiento = int(input('cuantos años tienes?'))\n",
    "edad = 2021 - anonacimiento\n",
    "if (edad >= 18):\n",
    "    print(\"Eres mayorcito, o sea que puedes votar\")\n",
    "else: \n",
    "    print(\"No puedes votar botsito\")"
   ]
  },
  {
   "cell_type": "markdown",
   "id": "301cb629-91e3-433c-800f-baad2534271e",
   "metadata": {},
   "source": [
    "## 3.7.- Sentencia if "
   ]
  },
  {
   "cell_type": "markdown",
   "id": "410f8e45-c2d2-460f-87f6-9ea211142915",
   "metadata": {},
   "source": [
    "El usuario proporciona su año de nacimiento\n",
    "La cantidad debe leerse como un entero\n",
    "Si la variable 2021 – año de nacimiento, es mayor o igual a 25,\n",
    "el programa debe mostrar: Posible cliente"
   ]
  },
  {
   "cell_type": "markdown",
   "id": "c12a57c1-25fd-422c-b991-689f2af4cc34",
   "metadata": {},
   "source": [
    "Entonces el código para alguien que dijo nació en 1993 será:"
   ]
  },
  {
   "cell_type": "code",
   "execution_count": 13,
   "id": "d20cc775-bacf-4494-baf2-43a2a9bf013a",
   "metadata": {},
   "outputs": [
    {
     "name": "stdout",
     "output_type": "stream",
     "text": [
      "Eres mayorcito, tienes:  28\n"
     ]
    }
   ],
   "source": [
    "anonacimiento = int(1993)\n",
    "edad = 2021 - anonacimiento\n",
    "if edad >= 18:\n",
    "    print(\"Eres mayorcito, tienes: \", edad)\n",
    "else: \n",
    "    print(\"No puedes votar botsito\")"
   ]
  },
  {
   "cell_type": "markdown",
   "id": "9c93db3a-9773-40da-8d2f-f3b52be77c1d",
   "metadata": {},
   "source": [
    "Si no se añade indentación... error"
   ]
  },
  {
   "cell_type": "code",
   "execution_count": null,
   "id": "72ed4d90-d281-4c11-aca1-f4f6765b6527",
   "metadata": {},
   "outputs": [],
   "source": [
    "anonacimiento = int(1993)\n",
    "edad = 2021 - anonacimiento\n",
    "if edad >= 18:\n",
    "print(\"Eres mayorcito, tienes: \", edad)\n",
    "else: \n",
    "print(\"No puedes votar botsito\")"
   ]
  },
  {
   "cell_type": "markdown",
   "id": "3ffd478d-5723-4baf-9845-10412bf3ff67",
   "metadata": {},
   "source": [
    "Hay que poner identación en todos lados"
   ]
  },
  {
   "cell_type": "code",
   "execution_count": 22,
   "id": "8c0bf0c4-4f38-423c-b6b9-ff116ac9d4eb",
   "metadata": {},
   "outputs": [],
   "source": [
    "anonacimiento = int(1993)\n",
    "def evaluaredad(anonacimiento):\n",
    "    edad = 2021 - anonacimiento\n",
    "    if edad >= 18:\n",
    "        print(\"Eres mayorcito, tienes: \", edad)\n",
    "    else: \n",
    "        print(\"No puedes votar botsito\")"
   ]
  },
  {
   "cell_type": "markdown",
   "id": "a74cf5cc-5c5b-459e-bb49-9fb8683d514d",
   "metadata": {},
   "source": [
    "Todas las expresiones pueden ser interpretadas como falsas y verdaderas"
   ]
  },
  {
   "cell_type": "markdown",
   "id": "c8e79e45-5fc7-4a17-ad46-59d024196579",
   "metadata": {},
   "source": [
    "#### Por tu cuenta\n",
    "\n",
    "Cambia la fecha de nacimiento al 2002 del primer código"
   ]
  },
  {
   "cell_type": "code",
   "execution_count": 23,
   "id": "bdb47880",
   "metadata": {},
   "outputs": [
    {
     "name": "stdout",
     "output_type": "stream",
     "text": [
      "Eres mayorcito, tienes:  19\n"
     ]
    }
   ],
   "source": [
    "evaluaredad(2002)"
   ]
  },
  {
   "cell_type": "markdown",
   "id": "d4c29904-0f82-468e-9b25-3bcf5e671341",
   "metadata": {},
   "source": [
    "## 3.8.- Sentencia if..else, if..elif...else"
   ]
  },
  {
   "cell_type": "markdown",
   "id": "9cd25587-cc7a-4202-b3e5-5e99369a0f6c",
   "metadata": {},
   "source": [
    "El usuario proporciona su año de nacimiento\n",
    "\n",
    "La cantidad debe leerse como un entero\n",
    "\n",
    "Si la variable 2021 – año de nacimiento, es mayor o igual a 25,\n",
    "\n",
    "el programa debe mostrar: Posible cliente\n",
    "\n",
    "en otro caso,\n",
    "\n",
    "debe mostrar: No es candidato"
   ]
  },
  {
   "cell_type": "markdown",
   "id": "3c80901e-93b7-4c46-8042-a1d135f92142",
   "metadata": {},
   "source": [
    "OK, escribe el código de lo anterior, observa la identación, prueba para 1985"
   ]
  },
  {
   "cell_type": "code",
   "execution_count": 29,
   "id": "6fc8df95-ced6-476d-921f-a9c38acbcc1f",
   "metadata": {},
   "outputs": [
    {
     "name": "stdout",
     "output_type": "stream",
     "text": [
      "Eres mayorcito, tienes:  36\n"
     ]
    }
   ],
   "source": [
    "anonacimiento = int(1985)\n",
    "edad = 2021 - anonacimiento\n",
    "if edad >= 18:\n",
    "    print(\"Eres mayorcito, tienes: \", edad)\n",
    "else: \n",
    "    print(\"No puedes votar botsito\")"
   ]
  },
  {
   "cell_type": "markdown",
   "id": "eb5474b3-2c69-425d-b284-4b4973d3e4c4",
   "metadata": {},
   "source": [
    "Y ahora para 1999"
   ]
  },
  {
   "cell_type": "code",
   "execution_count": 28,
   "id": "a1c7c3e9-c733-414e-a384-0d594a6018aa",
   "metadata": {},
   "outputs": [
    {
     "name": "stdout",
     "output_type": "stream",
     "text": [
      "Eres mayorcito, tienes:  22\n"
     ]
    }
   ],
   "source": [
    "anonacimiento = int(1999)\n",
    "edad = 2021 - anonacimiento\n",
    "if edad >= 18:\n",
    "    print(\"Eres mayorcito, tienes: \", edad)\n",
    "else: \n",
    "    print(\"No puedes votar botsito\")"
   ]
  },
  {
   "cell_type": "markdown",
   "id": "b1cb650e-ff5d-4791-819e-3d4f31ae49f5",
   "metadata": {},
   "source": [
    "Ok, otra alternativa es asignar las acciones a una variable"
   ]
  },
  {
   "cell_type": "code",
   "execution_count": null,
   "id": "2859bcbc-92e4-4729-91f2-a295bdc701f8",
   "metadata": {},
   "outputs": [],
   "source": [
    "anonacimiento = 1999\n",
    "edad = 2021 - anonacimiento\n",
    "if edad >= 18:\n",
    "    cliente= 'Si'\n",
    "else:\n",
    "    cliente= 'No'\n",
    "\n",
    "print(cliente)"
   ]
  },
  {
   "cell_type": "markdown",
   "id": "06bd7ff2-8017-4580-8cf4-845751e7143f",
   "metadata": {},
   "source": [
    "Cada condición (if) puede realizar más de una acción - solo recuerda indentar"
   ]
  },
  {
   "cell_type": "code",
   "execution_count": 35,
   "id": "6a033eb5-34cd-4a18-8aca-170cce1ee3f3",
   "metadata": {},
   "outputs": [
    {
     "name": "stdout",
     "output_type": "stream",
     "text": [
      "Posible 10\n",
      "Neta que si\n"
     ]
    }
   ],
   "source": [
    "anonacimiento = 2001\n",
    "if 2021-anonacimiento >= 18:\n",
    "    print('Posible 10')\n",
    "    print('Neta que si')\n",
    "else:\n",
    "    print('No')\n",
    "    print('Neta que no')\n"
   ]
  },
  {
   "cell_type": "markdown",
   "id": "1781ed40-5814-4600-a8b6-2d9e5a816e9a",
   "metadata": {},
   "source": [
    "Por que si dejamos sin identación, siempre se va a ejecutar (y es un mundo de errores)"
   ]
  },
  {
   "cell_type": "code",
   "execution_count": 36,
   "id": "7eff9135-4ba5-4585-a359-d99a9846fb2c",
   "metadata": {},
   "outputs": [
    {
     "ename": "IndentationError",
     "evalue": "expected an indented block after 'if' statement on line 2 (1665825702.py, line 3)",
     "output_type": "error",
     "traceback": [
      "\u001b[0;36m  Cell \u001b[0;32mIn[36], line 3\u001b[0;36m\u001b[0m\n\u001b[0;31m    print('Posible 10')\u001b[0m\n\u001b[0m    ^\u001b[0m\n\u001b[0;31mIndentationError\u001b[0m\u001b[0;31m:\u001b[0m expected an indented block after 'if' statement on line 2\n"
     ]
    }
   ],
   "source": [
    "anonacimiento = 2001\n",
    "if 2021-anonacimiento >= 18:\n",
    "print('Posible 10')\n",
    "print('Neta que si')\n",
    "else:\n",
    "print('No')\n",
    "print('Neta que no')"
   ]
  },
  {
   "cell_type": "markdown",
   "id": "45f8933d-a55f-4236-833d-8058d16395e6",
   "metadata": {},
   "source": [
    "Si la edad de la persona es mayor o igual a 60\n",
    "Mostrar: Adulto Mayor\n",
    "Si la edad de la persona es mayor o igual a 27\n",
    "Mostrar: Adulto\n",
    "Si la edad de la persona es mayor o igual a 18\n",
    "Mostrar: Joven\n",
    "Si la edad de la persona es mayor o igual a 12\n",
    "Mostrar: Adolescente\n",
    "En otro caso,\n",
    "Mostrar: Infante"
   ]
  },
  {
   "cell_type": "markdown",
   "id": "861e7951-f7d3-467c-9f92-e534069381c6",
   "metadata": {},
   "source": [
    "#### Por tu Cuenta\n",
    "\n",
    "Arma un programa basado en el pseudocódigo anterior"
   ]
  },
  {
   "cell_type": "code",
   "execution_count": 45,
   "id": "c8fd22ba-77a5-4033-a35a-d00947458df5",
   "metadata": {},
   "outputs": [
    {
     "name": "stdout",
     "output_type": "stream",
     "text": [
      "Adulto mayor\n"
     ]
    }
   ],
   "source": [
    "anonacimiento = int(input('En que año naciste crack?'))\n",
    "edad = 2021 - anonacimiento\n",
    "if edad >= 60: \n",
    "    print('Adulto mayor')\n",
    "elif edad >= 27:\n",
    "    print('Adulto')\n",
    "elif edad >= 18:\n",
    "    print('Joven')\n",
    "elif edad >= 12:\n",
    "    print('Adolescente')\n",
    "else:\n",
    "    print('Infante')"
   ]
  },
  {
   "cell_type": "markdown",
   "id": "6a350229-d037-49b8-8a10-831c579ac107",
   "metadata": {},
   "source": [
    "## 3.9.- Sentencia While"
   ]
  },
  {
   "cell_type": "markdown",
   "id": "c774587b-29d9-475f-9912-24ab63b9fc04",
   "metadata": {},
   "source": [
    "Iniciar con potencia=4\n",
    "Mientras que potencia sea menor o igual a 817\n",
    "Potencia=potencia*4"
   ]
  },
  {
   "cell_type": "markdown",
   "id": "c91db9d8-93f3-4d3a-a657-9b2b47f3aa50",
   "metadata": {},
   "source": [
    "Arma un programa que ejecute el pseudocódigo anterior"
   ]
  },
  {
   "cell_type": "code",
   "execution_count": 47,
   "id": "fc738513-065b-4ede-be43-077f8cb20581",
   "metadata": {},
   "outputs": [
    {
     "name": "stdout",
     "output_type": "stream",
     "text": [
      "16\n",
      "64\n",
      "256\n",
      "1024\n"
     ]
    }
   ],
   "source": [
    "potencia = 4\n",
    "while potencia <= 817:\n",
    "    potencia = potencia * 4\n",
    "    print(potencia)"
   ]
  },
  {
   "cell_type": "markdown",
   "id": "3cc4527c-0db2-489c-b3f4-6824da60fe0d",
   "metadata": {},
   "source": [
    "# 3.10.- Sentencia For"
   ]
  },
  {
   "cell_type": "markdown",
   "id": "faf76ecb-2024-4504-b999-397258a8b613",
   "metadata": {},
   "source": [
    "Analiza el siguiente ejemplo\n",
    "\n",
    "for caracter in ‘Palabra’:\n",
    "    print(caracter, end=’ ‘)\n",
    "\n"
   ]
  },
  {
   "cell_type": "code",
   "execution_count": 56,
   "id": "2be519f0-0b2f-41cd-889a-324243b1c74e",
   "metadata": {},
   "outputs": [
    {
     "name": "stdout",
     "output_type": "stream",
     "text": [
      "P12a12l12a12b12r12a12"
     ]
    }
   ],
   "source": [
    "for caracter in 'Palabra':\n",
    "    print(caracter, end='12')"
   ]
  },
  {
   "cell_type": "code",
   "execution_count": null,
   "id": "66c25902",
   "metadata": {},
   "outputs": [
    {
     "name": "stdout",
     "output_type": "stream",
     "text": [
      "Palabra\n"
     ]
    }
   ],
   "source": [
    "print (25,55,85,115, sep='mmmm')"
   ]
  },
  {
   "cell_type": "markdown",
   "id": "836a856c-ded9-42f9-b816-ca57889fdbc2",
   "metadata": {},
   "source": [
    "Arma un programa que te calcule el factorial de algún número dado"
   ]
  },
  {
   "cell_type": "code",
   "execution_count": 70,
   "id": "7269cb54-02c7-4b6f-b400-bc8b9d573d01",
   "metadata": {},
   "outputs": [
    {
     "name": "stdout",
     "output_type": "stream",
     "text": [
      "120\n"
     ]
    }
   ],
   "source": [
    "numerofc = 1\n",
    "for nmro in [1,2,3,4,5]:\n",
    "    numerofc = numerofc*nmro\n",
    "print(numerofc)"
   ]
  },
  {
   "cell_type": "markdown",
   "id": "48fe5311-9076-44f6-8ef0-59ba0c09c9ea",
   "metadata": {},
   "source": [
    "Conoce el operador *= que te permite guardar el resultado en si mismo"
   ]
  },
  {
   "cell_type": "code",
   "execution_count": 78,
   "id": "2e627ca5-8755-455c-be36-b4df3deae649",
   "metadata": {},
   "outputs": [
    {
     "name": "stdout",
     "output_type": "stream",
     "text": [
      "120\n"
     ]
    }
   ],
   "source": [
    "numerofc = 1\n",
    "for nmro in [1,2,3,4,5]:\n",
    "    numerofc *= nmro\n",
    "print(numerofc)"
   ]
  },
  {
   "cell_type": "markdown",
   "id": "f8ee4c02-8084-4b20-beb0-ffddf7f9e8a4",
   "metadata": {},
   "source": [
    "Podemos usar range si la suceción de elementos en for es una suscesión ordenada"
   ]
  },
  {
   "cell_type": "code",
   "execution_count": 79,
   "id": "016bb41a-99fd-4aee-aad0-ee994eb082cc",
   "metadata": {},
   "outputs": [
    {
     "name": "stdout",
     "output_type": "stream",
     "text": [
      "0 1 2 3 4 "
     ]
    }
   ],
   "source": [
    "for contador in range (5):\n",
    "    print(contador, end=' ')"
   ]
  },
  {
   "cell_type": "markdown",
   "id": "89526fc0-663e-405b-9b71-4ad0c5eb77d6",
   "metadata": {},
   "source": [
    "Si necesitas salir del ciclo usa Break.\n",
    "\n",
    "Haz un programa que para todos los números del 1-10, muestre el número en pantalla... peeeero al llegar al 8 haga break."
   ]
  },
  {
   "cell_type": "code",
   "execution_count": 81,
   "id": "7b739677-ee9b-4511-aae4-e295dcf24242",
   "metadata": {},
   "outputs": [
    {
     "name": "stdout",
     "output_type": "stream",
     "text": [
      "0\n",
      "1\n",
      "2\n",
      "3\n",
      "4\n",
      "5\n",
      "6\n",
      "7\n",
      "8\n"
     ]
    }
   ],
   "source": [
    "for contador in range(10):\n",
    "    print(contador)\n",
    "    if contador == 8:\n",
    "        break"
   ]
  },
  {
   "cell_type": "markdown",
   "id": "9ec03229-a673-4e57-be0a-44708327b956",
   "metadata": {},
   "source": [
    "#### Por tu cuenta\n",
    "\n",
    "Usa for para calcular el consumo promedio de los siguientes clientes\n",
    "\n",
    "[130,85,210,45,153,78.5,264.5,94]\n",
    "\n",
    "Esta lista te muestra el consumo de cada cliente"
   ]
  },
  {
   "cell_type": "code",
   "execution_count": 104,
   "id": "793cbe1c-3303-4284-a5f9-da91d55cbcc6",
   "metadata": {},
   "outputs": [
    {
     "name": "stdout",
     "output_type": "stream",
     "text": [
      "El promedio del consumo es: 132.5\n"
     ]
    }
   ],
   "source": [
    "a = [130,85,210,45,153,78.5,264.5,94]\n",
    "suma = 0\n",
    "for i in a:\n",
    "    suma += i\n",
    "    promedio = (suma) / len(a)\n",
    "print('El promedio del consumo es:', + promedio)"
   ]
  },
  {
   "cell_type": "markdown",
   "id": "4dfbadfd-4552-40bb-be14-f0a06f6cc589",
   "metadata": {},
   "source": [
    "#### Por tu cuenta\n",
    "\n",
    "usa for para calcular el interes compuesto de una persona que invierte $10,000 en una cuenta que rinde el 8% de intereses. Supon que la persona reinvierte los intereses. Calcula la cantida ddel dinero al final de 10 años"
   ]
  },
  {
   "cell_type": "code",
   "execution_count": 110,
   "id": "6ae87f0a-c126-4686-a68a-718750cd6cb4",
   "metadata": {},
   "outputs": [
    {
     "name": "stdout",
     "output_type": "stream",
     "text": [
      "21589.249972727885\n"
     ]
    }
   ],
   "source": [
    "años = [1,2,3,4,5,6,7,8,9,10]\n",
    "dineroini = 10000\n",
    "for i in años:\n",
    "    dineroini *= 1.08\n",
    "print(dineroini)\n"
   ]
  },
  {
   "cell_type": "markdown",
   "id": "f70e0474-b78c-41e6-b4bf-b7d406afc18e",
   "metadata": {},
   "source": [
    "#### Por tu cuenta\n",
    "\n",
    "En una tienda de autoservicio hay un promotor en la sección de productos lácteos. La empresa\n",
    "para la que trabaja, le otorga un premio económico si rebasa $200 de ventas (venta meta) por\n",
    "cliente. La empresa cuenta con un registro en donde están marcadas las ventas de 8 clientes que\n",
    "adquirieron algunos de los productos de la marca. Por cada cliente que rebasó la cantidad meta se\n",
    "escribe 1, y si no la rebasa se escribe 2. Si número de clientes que rebasan la venta meta es más de\n",
    "la mitad, se le otorga el premio al promotor. Se requiere de un programa que señale si al promotor\n",
    "se le debe asignar el premio económico"
   ]
  },
  {
   "cell_type": "code",
   "execution_count": null,
   "id": "709467af-aa12-4e2b-a6f9-9ddbf3dc5cf4",
   "metadata": {},
   "outputs": [
    {
     "name": "stdout",
     "output_type": "stream",
     "text": [
      "Clientes que superaron la meta: 5\n",
      "Clientes que NO superaron la meta: 3\n",
      "El promotor traga hoy.\n"
     ]
    }
   ],
   "source": [
    "ventas = [250, 180, 300, 220, 150, 210, 190, 230]  \n",
    "tragar = 200\n",
    "\n",
    "ventota = sum(1 for i in ventas if i > tragar)\n",
    "ventita = len(ventas) - ventota \n",
    "\n",
    "print(f\"Clientes que gastaron chido: {ventota}\")\n",
    "print(f\"Clientes que no gastaron chido: {ventita}\")\n",
    "\n",
    "if ventota > len(ventas) / 2:\n",
    "    print(\"El promotor traga hoy.\")\n",
    "else:\n",
    "    print(\"El promotor no traga hoy.\")\n"
   ]
  },
  {
   "cell_type": "markdown",
   "id": "f8d3b5e3-6330-4c14-b58a-0cca551d2859",
   "metadata": {},
   "source": [
    "## 3.11.- Operadores Booleanos"
   ]
  },
  {
   "cell_type": "markdown",
   "id": "6c08d764-a3d9-4a66-b302-3d2b6ea26c9a",
   "metadata": {},
   "source": [
    "Arma un programa que revise si un cliente registró su mail Y que su salario mensual sea mayor a 20,000 pesos para poder declararlo como posible cliente"
   ]
  },
  {
   "cell_type": "code",
   "execution_count": null,
   "id": "fb9d9030",
   "metadata": {},
   "outputs": [
    {
     "name": "stdout",
     "output_type": "stream",
     "text": [
      "Este wey no checó el correo\n"
     ]
    }
   ],
   "source": [
    "registro = input('Registraste tu correo bro? (si/no)')\n",
    "if registro == 'si':\n",
    "    sal = int(input('Cuanto ganas al mes?'))\n",
    "    if registro == 'si' and sal >= 20000:\n",
    "        print('Puede darse el lujo de comprarnos')\n",
    "    else:\n",
    "        print('Que le eche ganitas para comprarnos papito')\n",
    "\n",
    "else:\n",
    "    registro = False\n",
    "    print('Este wey no checó el correo')    "
   ]
  },
  {
   "cell_type": "markdown",
   "id": "ef7df93f-b65c-44a8-8003-0eab0051c033",
   "metadata": {},
   "source": [
    "Arma un programa que revise si un posible candidato laboral va tiene titulo o al menos 5 años de experiencia laboral para poder llamarlo a entrevista"
   ]
  },
  {
   "cell_type": "code",
   "execution_count": 151,
   "id": "53f119f7-01eb-46d9-b9c8-be1eb9ecdcb2",
   "metadata": {},
   "outputs": [
    {
     "name": "stdout",
     "output_type": "stream",
     "text": [
      "Puede que nos convenga explotarlo\n"
     ]
    }
   ],
   "source": [
    "tit = input('El ca tiene ti?(si/no)')\n",
    "exp = int(input('Cuantos anos llevas trabajando?'))\n",
    "\n",
    "if tit == 'si' or exp >= 5:\n",
    "    print('Puede que nos convenga explotarlo')\n",
    "else:\n",
    "    print('No vale la pena ni rechazarlo')"
   ]
  }
 ],
 "metadata": {
  "kernelspec": {
   "display_name": "Python 3 (ipykernel)",
   "language": "python",
   "name": "python3"
  }
 },
 "nbformat": 4,
 "nbformat_minor": 5
}
