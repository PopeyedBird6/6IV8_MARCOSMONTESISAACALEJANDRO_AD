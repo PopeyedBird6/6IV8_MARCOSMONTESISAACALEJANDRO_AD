{
 "cells": [
  {
   "cell_type": "markdown",
   "id": "890d33dd-25e6-4787-84bc-213b348648d5",
   "metadata": {},
   "source": [
    "***"
   ]
  },
  {
   "cell_type": "markdown",
   "id": "6a2caf78",
   "metadata": {},
   "source": [
    "### <span style=\"color:blue\">6.5 Curva ROC</span>\n"
   ]
  },
  {
   "cell_type": "markdown",
   "id": "c589757e-e8a3-45bc-b264-91a7844e0005",
   "metadata": {},
   "source": [
    "Grafica Recall contra el porcentaje de Falsos Positivos"
   ]
  },
  {
   "cell_type": "code",
   "execution_count": 505,
   "id": "174891b7",
   "metadata": {},
   "outputs": [],
   "source": [
    "#Importar roc_curve\n"
   ]
  },
  {
   "cell_type": "code",
   "execution_count": 506,
   "id": "5336e616",
   "metadata": {},
   "outputs": [],
   "source": [
    "#Graficar la curva ROC\n",
    "\n",
    "#Poner una cuadrícula\n"
   ]
  },
  {
   "cell_type": "markdown",
   "id": "5e87c17d-a9da-425c-80d3-40d541f3af9c",
   "metadata": {},
   "source": [
    "Un modelo perfecto se asimila a una escuadra entre la curva ROC y la línea punteada porque existe una mayor área bajo la curva"
   ]
  },
  {
   "cell_type": "code",
   "execution_count": 507,
   "id": "cb11a9f2",
   "metadata": {},
   "outputs": [],
   "source": [
    "#Calcular el puntaje de la curva\n"
   ]
  },
  {
   "cell_type": "code",
   "execution_count": 508,
   "id": "bd8ce8ec",
   "metadata": {},
   "outputs": [],
   "source": [
    "#Compararlo con el modelo de random forest\n"
   ]
  },
  {
   "cell_type": "code",
   "execution_count": 509,
   "id": "40ed836a",
   "metadata": {},
   "outputs": [],
   "source": [
    "#Graficar la curva ROC y la predicción de random forest \n"
   ]
  },
  {
   "cell_type": "code",
   "execution_count": 510,
   "id": "3da0b336",
   "metadata": {},
   "outputs": [],
   "source": [
    "#Calcular el puntaje (área bajo la curva) de random forest  \n"
   ]
  },
  {
   "cell_type": "markdown",
   "id": "ed57351c-fef1-43a2-abb8-000bb34d9e60",
   "metadata": {},
   "source": [
    "***"
   ]
  },
  {
   "cell_type": "markdown",
   "id": "869d66e8",
   "metadata": {},
   "source": [
    "## <span style=\"color:green\">7. Clasificadores Multiclase</span>\n"
   ]
  },
  {
   "cell_type": "code",
   "execution_count": 511,
   "id": "f3754467",
   "metadata": {},
   "outputs": [],
   "source": [
    "# Importar SVC=Support Vector Classifier\n",
    "\n",
    "\n",
    "\n",
    "#Predecir a un humano aleatorio para ver que todo este funcionando bien \n"
   ]
  },
  {
   "cell_type": "code",
   "execution_count": 512,
   "id": "ea8321ef",
   "metadata": {},
   "outputs": [],
   "source": [
    "#Utilizar decision_function para observar los puntajes de cada medicina \n",
    "\n",
    "#Decidirá por el qué tenga mayor puntaje"
   ]
  },
  {
   "cell_type": "code",
   "execution_count": 513,
   "id": "b254626c",
   "metadata": {},
   "outputs": [],
   "source": [
    "#Ahora, utiliza el clasificador multiclase \n",
    "\n",
    "#Predecir a un humano ahora con este clasificador\n"
   ]
  },
  {
   "cell_type": "code",
   "execution_count": 514,
   "id": "0977941f",
   "metadata": {},
   "outputs": [],
   "source": [
    "#Utilizar decision_function para observar los puntajes de cada medicina \n"
   ]
  },
  {
   "cell_type": "code",
   "execution_count": 515,
   "id": "f62ef031-ec16-45b1-9529-141f2a56fecd",
   "metadata": {},
   "outputs": [],
   "source": [
    "#campararlo con los datos obtenidos de sgd.fit \n"
   ]
  },
  {
   "cell_type": "markdown",
   "id": "01d14327-bb72-4e3d-8dde-e383892136b4",
   "metadata": {},
   "source": [
    "***"
   ]
  },
  {
   "cell_type": "markdown",
   "id": "db247461",
   "metadata": {},
   "source": [
    "## <span style=\"color:green\">8. Analizar Errores</span>"
   ]
  },
  {
   "cell_type": "code",
   "execution_count": 516,
   "id": "2f184f37-4640-4733-8c54-911f7c99ef2f",
   "metadata": {},
   "outputs": [],
   "source": [
    "#Hacer un clasificador de random forest\n"
   ]
  },
  {
   "cell_type": "code",
   "execution_count": 517,
   "id": "fb8f5f40",
   "metadata": {},
   "outputs": [],
   "source": [
    "#Utilizar la matriz de confusión \n"
   ]
  },
  {
   "cell_type": "code",
   "execution_count": 518,
   "id": "3489af35-b3f2-4001-9e2f-67b5696c44f7",
   "metadata": {},
   "outputs": [],
   "source": [
    "#utilizar ahora SGD\n"
   ]
  }
 ],
 "metadata": {
  "kernelspec": {
   "display_name": "Python 3 (ipykernel)",
   "language": "python",
   "name": "python3"
  }
 },
 "nbformat": 4,
 "nbformat_minor": 5
}
