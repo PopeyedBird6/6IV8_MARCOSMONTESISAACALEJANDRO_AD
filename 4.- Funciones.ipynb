{
 "cells": [
  {
   "cell_type": "markdown",
   "id": "69901415-871c-4128-94ba-7cb605818be1",
   "metadata": {},
   "source": [
    "# 4.- Funciones"
   ]
  },
  {
   "cell_type": "markdown",
   "id": "82a4386e-b878-475e-b82d-03dbcb9d44d3",
   "metadata": {},
   "source": [
    "## 4.2.- Función def"
   ]
  },
  {
   "cell_type": "markdown",
   "id": "8e864b12-a5a9-4cde-b565-a59929d9d7eb",
   "metadata": {},
   "source": [
    "Vamos a comenzar creando una funcion que tome un número y devuelva su raiz cuadrada"
   ]
  },
  {
   "cell_type": "code",
   "execution_count": 7,
   "id": "c555a87f-f94f-4dfb-ac88-4bd40e1f2c96",
   "metadata": {},
   "outputs": [
    {
     "data": {
      "text/plain": [
       "2.0"
      ]
     },
     "execution_count": 7,
     "metadata": {},
     "output_type": "execute_result"
    }
   ],
   "source": [
    "nume = int(input('Numero a sacarle raiz'))\n",
    "\n",
    "def raiz(nume):\n",
    "    raizc = nume ** (1/2)\n",
    "    return raizc\n",
    "raiz(nume)"
   ]
  },
  {
   "cell_type": "markdown",
   "id": "a034c45f-dd3c-4e3b-b4b5-4c266b7eb003",
   "metadata": {},
   "source": [
    "Las funciones también las podemos llamar desde otras expresiones como print"
   ]
  },
  {
   "cell_type": "code",
   "execution_count": 8,
   "id": "24499624-16fa-4b44-b50d-a0a77dd65543",
   "metadata": {},
   "outputs": [
    {
     "name": "stdout",
     "output_type": "stream",
     "text": [
      "3.0\n"
     ]
    }
   ],
   "source": [
    "print(raiz(9))"
   ]
  },
  {
   "cell_type": "markdown",
   "id": "5fa7a304-a3ac-49f8-a9c7-985ff3cd4738",
   "metadata": {},
   "source": [
    "Muchas funciones podemos ? para saber como se usa la función"
   ]
  },
  {
   "cell_type": "code",
   "execution_count": 9,
   "id": "48187ac5-0ca4-4412-9b2c-8dc240a0a891",
   "metadata": {},
   "outputs": [
    {
     "data": {
      "text/plain": [
       "2.6457513110645907"
      ]
     },
     "execution_count": 9,
     "metadata": {},
     "output_type": "execute_result"
    }
   ],
   "source": [
    "raiz(1)\n",
    "raiz(2)\n",
    "raiz(3)\n",
    "raiz(4)\n",
    "raiz(6)\n",
    "raiz(5)\n",
    "raiz(7)"
   ]
  },
  {
   "cell_type": "markdown",
   "id": "55e03a1c-54ea-4685-b6e0-1880a7073360",
   "metadata": {},
   "source": [
    "#### Por tu cuenta\n",
    "\n",
    "Define una función que calcule la raiz cubica de un numero dado"
   ]
  },
  {
   "cell_type": "code",
   "execution_count": 10,
   "id": "3e9e8b00-c189-400d-b1ba-467fe444b379",
   "metadata": {},
   "outputs": [
    {
     "data": {
      "text/plain": [
       "2.0"
      ]
     },
     "execution_count": 10,
     "metadata": {},
     "output_type": "execute_result"
    }
   ],
   "source": [
    "nume3 = int(input('Numero a sacarle el cu...bo JAJAJAJJA'))\n",
    "\n",
    "def raiz(nume3):\n",
    "    raizc = nume3 ** (1/3)\n",
    "    return raizc\n",
    "raiz(nume3)"
   ]
  },
  {
   "cell_type": "markdown",
   "id": "dc1856d4-be0c-4cc6-b217-10fb4bab5fe6",
   "metadata": {},
   "source": [
    "## 4.3.- Funciones con Múltiples Parámetros"
   ]
  },
  {
   "cell_type": "markdown",
   "id": "1f12cc0d-bd8e-45a9-b1b8-f976783ccf4f",
   "metadata": {},
   "source": [
    "Ahora armaremos una función usando IF que nos dice cual es la raiz cuadrada más grande de 3 números"
   ]
  },
  {
   "cell_type": "code",
   "execution_count": 18,
   "id": "8f4f0077-7108-42ce-942e-e12ee8744582",
   "metadata": {},
   "outputs": [
    {
     "name": "stdout",
     "output_type": "stream",
     "text": [
      "El más grande es: 3  Y su raiz cúbica es: 1.4422495703074083\n"
     ]
    }
   ],
   "source": [
    "num1 = int(input('Ingresa el primer numero'))\n",
    "num2 = int(input('Ingresa el segundo numero'))\n",
    "num3 = int(input('Ingresa el tercer numero'))\n",
    "\n",
    "def raizM(num1, num2, num3):\n",
    "    if num1 >= num2 and num1 >= num3:\n",
    "        mayor = num1\n",
    "    elif num2 >= num1 and num2 >= num3:\n",
    "        mayor = num2\n",
    "    else:\n",
    "        mayor = num3\n",
    "    raizb = mayor ** (1/3)\n",
    "    print('El más grande es:', mayor, ' Y su raiz cúbica es:', raizb)\n",
    "\n",
    "raizM(num1, num2, num3)\n"
   ]
  },
  {
   "cell_type": "markdown",
   "id": "21bdb948-fa7a-4c21-9acb-6ae8266aa3e6",
   "metadata": {},
   "source": [
    "Por si las dudas, esto se podría haber simplificado usando Max y Min"
   ]
  },
  {
   "cell_type": "code",
   "execution_count": 19,
   "id": "8a495cc4-00c7-4cfb-9d0c-c35dea9683ae",
   "metadata": {},
   "outputs": [
    {
     "name": "stdout",
     "output_type": "stream",
     "text": [
      "El más grande es: 3 Y su raíz cúbica es: 1.4422495703074083\n"
     ]
    }
   ],
   "source": [
    "num1 = int(input('Ingresa el primer número: '))\n",
    "num2 = int(input('Ingresa el segundo número: '))\n",
    "num3 = int(input('Ingresa el tercer número: '))\n",
    "\n",
    "def raizM(num1, num2, num3):\n",
    "    mayor = max(num1, num2, num3)\n",
    "    raizb = mayor ** (1/3)\n",
    "    print('El más grande es:', mayor, 'Y su raíz cúbica es:', raizb)\n",
    "\n",
    "raizM(num1, num2, num3)"
   ]
  },
  {
   "cell_type": "markdown",
   "id": "83d18c4c-e99c-4f4c-a0dc-41b41f50c6ed",
   "metadata": {},
   "source": [
    "#### Por tu cuenta\n",
    "\n",
    "Llama la función max con la lista 15,82,13,55 como argumento, yluego la min con la palabara amarillo como argumento"
   ]
  },
  {
   "cell_type": "code",
   "execution_count": 22,
   "id": "727e360d",
   "metadata": {},
   "outputs": [
    {
     "name": "stdout",
     "output_type": "stream",
     "text": [
      "a 82\n"
     ]
    }
   ],
   "source": [
    "maxi = max(12,82,13,55)\n",
    "mini = min('amarillo')\n",
    "print(mini, maxi)"
   ]
  },
  {
   "cell_type": "markdown",
   "id": "2d356f80-2d18-4849-a3dd-4253cb4edcd6",
   "metadata": {},
   "source": [
    "## 4.4.- Números aleatorios"
   ]
  },
  {
   "cell_type": "markdown",
   "id": "c7ad0802-525b-4399-8fc7-454593d86ae9",
   "metadata": {},
   "source": [
    "Vamos a simular el lanzamiento de una moneda (cara o cruz), usemos la biblioteca random y simulemos 10 tiros"
   ]
  },
  {
   "cell_type": "code",
   "execution_count": 46,
   "id": "3a8bd37e-3b1a-499b-88c3-c3063b1c2f72",
   "metadata": {},
   "outputs": [
    {
     "name": "stdout",
     "output_type": "stream",
     "text": [
      "1  1  1  0  0  1  0  0  1  0  "
     ]
    }
   ],
   "source": [
    "import random\n",
    "\n",
    "for tirada in range(10):\n",
    "    print(random.randrange(0,2), end='  ')"
   ]
  },
  {
   "cell_type": "code",
   "execution_count": 47,
   "id": "3197c537",
   "metadata": {},
   "outputs": [
    {
     "name": "stdout",
     "output_type": "stream",
     "text": [
      "1  1  1  0  0  0  0  1  1  0  "
     ]
    }
   ],
   "source": [
    "import random\n",
    "\n",
    "for tirada in range(10):\n",
    "    print(random.randrange(0,2), end='  ')"
   ]
  },
  {
   "cell_type": "markdown",
   "id": "05cefe11-289a-44e2-a987-b443cce37ce3",
   "metadata": {},
   "source": [
    "Ejecutalo de nuevo, checa como ahora tenemos diferentes resultados"
   ]
  },
  {
   "cell_type": "markdown",
   "id": "4e02ace3-df9d-41aa-87bd-6fd2daa2d0a4",
   "metadata": {},
   "source": [
    "Ahora vamos a escribir un código que simule el lanzamiento de una moneda 100,000 veces. No vamos a mostrar 100,000 resultados, solo una pequeña tabla con todas las caras y todas la cruces"
   ]
  },
  {
   "cell_type": "code",
   "execution_count": 81,
   "id": "70ee75bc-9a07-4c56-af3b-38cc3efcd256",
   "metadata": {},
   "outputs": [
    {
     "name": "stdout",
     "output_type": "stream",
     "text": [
      "Cantidad de caras:  50156\n",
      "Cantidad de cruces:  49844\n"
     ]
    }
   ],
   "source": [
    "import random\n",
    "\n",
    "fre_uno = 0\n",
    "fre_cero = 0\n",
    "\n",
    "for tirada in range(100_000):\n",
    "    resultado = random.randrange(0,2)\n",
    "    if resultado == 1:\n",
    "        fre_uno += 1\n",
    "    else:\n",
    "        fre_cero += 1\n",
    "\n",
    "print('Cantidad de caras: ', fre_uno)\n",
    "print('Cantidad de cruces: ', fre_cero)"
   ]
  },
  {
   "cell_type": "markdown",
   "id": "5ac8c289-07af-4305-a7b0-a47f551d142a",
   "metadata": {},
   "source": [
    "Si queremos obligar a que random sieeeempre nos de los mismos resultados, podemos usar seed. Arma una semilla de 25 y ejecuta el código 2 veces, checa como se repita (seed necesita repetirse 2 veces tmb)"
   ]
  },
  {
   "cell_type": "code",
   "execution_count": 82,
   "id": "06562bd7-2288-4e71-b817-55aeae5017b4",
   "metadata": {},
   "outputs": [
    {
     "name": "stdout",
     "output_type": "stream",
     "text": [
      "0  0  1  0  1  1  1  1  0  0  "
     ]
    }
   ],
   "source": [
    "import random\n",
    "\n",
    "random.seed(1)\n",
    "for tirada in range(10):\n",
    "    print(random.randrange(0,2), end='  ')"
   ]
  },
  {
   "cell_type": "code",
   "execution_count": 83,
   "id": "48c2c7ac",
   "metadata": {},
   "outputs": [
    {
     "name": "stdout",
     "output_type": "stream",
     "text": [
      "0  0  1  0  1  1  1  1  0  0  "
     ]
    }
   ],
   "source": [
    "import random\n",
    "\n",
    "random.seed(1)\n",
    "for tirada in range(10):\n",
    "    print(random.randrange(0,2), end='  ')"
   ]
  },
  {
   "cell_type": "markdown",
   "id": "ae4f4e14-ebd5-45f8-a8e4-9b31641a0af1",
   "metadata": {},
   "source": [
    "Es momento de jugar a \"El Gran 8\". \n",
    "\n",
    "Lo primero será lanzar un par de dados - arma una función que simule 2 dados y devuelva los valores que cayeron"
   ]
  },
  {
   "cell_type": "code",
   "execution_count": 536,
   "id": "07d2eda1-61af-4814-89da-822a1cb05e01",
   "metadata": {},
   "outputs": [
    {
     "data": {
      "text/plain": [
       "(2, 5)"
      ]
     },
     "execution_count": 536,
     "metadata": {},
     "output_type": "execute_result"
    }
   ],
   "source": [
    "import random\n",
    "\n",
    "def lanzar():\n",
    "    d1 = random.randint(1,6)\n",
    "    d2 = random.randint(1,6)\n",
    "    return (d1, d2)\n",
    "lanzar()"
   ]
  },
  {
   "cell_type": "markdown",
   "id": "6c524cee-4fb0-496d-b33b-343a1b9d6d62",
   "metadata": {},
   "source": [
    "Ahora arma una función que muestre la suma de los resultados de los 2 dados"
   ]
  },
  {
   "cell_type": "code",
   "execution_count": 534,
   "id": "f64c316a-f793-41ed-a4c0-68d014fbe816",
   "metadata": {},
   "outputs": [],
   "source": [
    "def resultadd(dado):\n",
    "    d1, d2 = dado\n",
    "    print(f'Resultado de la jugada {d1}+{d2}={sum(dado)}')\n"
   ]
  },
  {
   "cell_type": "markdown",
   "id": "c5eb4532-dce4-4397-b753-223bb5030a8f",
   "metadata": {},
   "source": [
    "Ahora necesitamos una variable que almacene el resutlado de lanzar los dados (funcion 1) y otra que sume los resultados de la función 1."
   ]
  },
  {
   "cell_type": "code",
   "execution_count": 515,
   "id": "9f51af4c-2def-494b-b7a2-9201414a4019",
   "metadata": {},
   "outputs": [
    {
     "name": "stdout",
     "output_type": "stream",
     "text": [
      "Resultado de la jugada 5+1=6\n"
     ]
    }
   ],
   "source": [
    "def resultadd(dado):\n",
    "    d1, d2 = dado\n",
    "    print(f'Resultado de la jugada {d1}+{d2}={sum(dado)}')\n",
    "valores_logrados = lanzar()\n",
    "\n",
    "resultadd(valores_logrados)\n",
    "\n",
    "sumad = sum(valores_logrados)"
   ]
  },
  {
   "cell_type": "markdown",
   "id": "21576096-58ea-4bd7-9e1b-bbe197aa08f2",
   "metadata": {},
   "source": [
    "Ahora, vamos  a simular las consecuencias del primer tiro - si la suma es 8, ganaste, si es 7, perdiste, y si no, continuamos"
   ]
  },
  {
   "cell_type": "code",
   "execution_count": 533,
   "id": "b35649ce-62bb-48fe-904a-089dccb42867",
   "metadata": {},
   "outputs": [
    {
     "name": "stdout",
     "output_type": "stream",
     "text": [
      "¡Habeis perdido, tío! 😢\n"
     ]
    }
   ],
   "source": [
    "if sumad == 8:\n",
    "    status_jugador = 'Ganaste'\n",
    "elif sumad == 7:\n",
    "    status_jugador = 'Perdiste'\n",
    "else:\n",
    "    status_jugador = 'Continuar'\n",
    "    print('Sigue probando, encuentra al Gran 8')\n",
    "\n",
    "    \n",
    "    "
   ]
  },
  {
   "cell_type": "markdown",
   "id": "34507a56-d650-4156-b1f2-d485a9b3634e",
   "metadata": {},
   "source": [
    "Y ahora con un bucle vamos a seguir el juego, se relanzan los dados y si se hace un bucle while que mientras que no haya un resultado de 6,8, o 7, se sigue tirando, si no se define si se ganó o se perdió"
   ]
  },
  {
   "cell_type": "code",
   "execution_count": null,
   "id": "0142cde5-6158-4c73-bbf4-e2d48efcd532",
   "metadata": {},
   "outputs": [],
   "source": [
    "while status_jugador == 'Continuar':\n",
    "    valores_logrados = lanzar()\n",
    "    resultadd(valores_logrados)\n",
    "    sumad = sum(valores_logrados)\n",
    "\n",
    "    if sumad == 6 or sumad == 8:\n",
    "        status_jugador = 'Ganaste'\n",
    "    elif sumad == 7:\n",
    "        status_jugador = 'Perdiste'\n",
    "\n",
    "if status_jugador == 'Ganaste':\n",
    "    print('¡Habeis ganado, chaval! 🎉')\n",
    "else:\n",
    "    print('¡Habeis perdido, tío! 😢')"
   ]
  },
  {
   "cell_type": "markdown",
   "id": "e330a41d-998a-4dd8-a8b9-51d255f0464d",
   "metadata": {},
   "source": [
    "Ahora unifica todo el código"
   ]
  },
  {
   "cell_type": "code",
   "execution_count": 563,
   "id": "4c64967e",
   "metadata": {},
   "outputs": [
    {
     "name": "stdout",
     "output_type": "stream",
     "text": [
      "Resultado de la jugada: 2 + 3 = 5\n",
      "Sigue probando, encuentra al Gran 8\n",
      "Resultado de la jugada: 3 + 5 = 8\n",
      "¡Habeis ganado, chaval! 🎉\n"
     ]
    }
   ],
   "source": [
    "import random\n",
    "\n",
    "def lanzar():\n",
    "    d1 = random.randint(1, 6)\n",
    "    d2 = random.randint(1, 6)\n",
    "    return d1, d2\n",
    "\n",
    "def resultadd(dado):\n",
    "    d1, d2 = dado\n",
    "    print(f'Resultado de la jugada: {d1} + {d2} = {sum(dado)}')\n",
    "\n",
    "valores_logrados = lanzar()\n",
    "resultadd(valores_logrados)\n",
    "\n",
    "sumad = sum(valores_logrados)\n",
    "\n",
    "if sumad == 8:\n",
    "    status_jugador = 'Ganaste'\n",
    "elif sumad == 7:\n",
    "    status_jugador = 'Perdiste'\n",
    "else:\n",
    "    status_jugador = 'Continuar'\n",
    "    print('Sigue probando, encuentra al Gran 8')\n",
    "\n",
    "while status_jugador == 'Continuar':\n",
    "    valores_logrados = lanzar()\n",
    "    resultadd(valores_logrados)\n",
    "    sumad = sum(valores_logrados)\n",
    "\n",
    "    if sumad == 6 or sumad == 8:\n",
    "        status_jugador = 'Ganaste'\n",
    "    elif sumad == 7:\n",
    "        status_jugador = 'Perdiste'\n",
    "\n",
    "if status_jugador == 'Ganaste':\n",
    "    print('¡Habeis ganado, chaval! 🎉')\n",
    "else:\n",
    "    print('¡Habeis perdido, tío! 😢')\n"
   ]
  },
  {
   "cell_type": "markdown",
   "id": "6c9e079c-3683-4901-a856-0bc24d2ea3b5",
   "metadata": {},
   "source": [
    "#### Por tu cuenta\n",
    "\n",
    "Usa un bucle for, randrange y una expresión condicional para simular 20 tiros de moneda, mosrando A para águila y S para Sello"
   ]
  },
  {
   "cell_type": "code",
   "execution_count": 576,
   "id": "24ea22a4-3fea-416b-af85-6a026c4ca9e7",
   "metadata": {},
   "outputs": [
    {
     "name": "stdout",
     "output_type": "stream",
     "text": [
      "A A S S A S A A A S A S S A S A S S A S "
     ]
    }
   ],
   "source": [
    "import random\n",
    "\n",
    "for _ in range(20):  \n",
    "    resultado = 'A' if random.randrange(2) == 0 else 'S'  \n",
    "    print(resultado, end=' ') "
   ]
  },
  {
   "cell_type": "markdown",
   "id": "902a0cb5-4b49-40f2-b285-afd87b760f18",
   "metadata": {},
   "source": [
    "## 4.5.- Funciones sin parámetros y múltiples parámetros"
   ]
  },
  {
   "cell_type": "markdown",
   "id": "71dd025d-bf4b-4c68-99b5-0cb72614740e",
   "metadata": {},
   "source": [
    "def raizcuadra(numero):\n",
    "    \"\"\"Esta función saca la raiz cuadra de un número\"\"\"\n",
    "    return numero ** (1/2)Se acuerdan de la primer funcion que hicimos? Que pasa si la corremos sin parametro?"
   ]
  },
  {
   "cell_type": "code",
   "execution_count": 577,
   "id": "e381d145-b1cb-46c5-99b9-9f83e90964bd",
   "metadata": {},
   "outputs": [
    {
     "data": {
      "text/plain": [
       "3.0"
      ]
     },
     "execution_count": 577,
     "metadata": {},
     "output_type": "execute_result"
    }
   ],
   "source": [
    "def raiz_cuad(numero):\n",
    "    return numero**(1/2)\n",
    "\n",
    "raiz_cuad(9)"
   ]
  },
  {
   "cell_type": "markdown",
   "id": "010114c1-509a-4cc1-a388-ca28850d9932",
   "metadata": {},
   "source": [
    "Asigna un parametro estandar para evitar este error"
   ]
  },
  {
   "cell_type": "markdown",
   "id": "6c3d4102-a3b3-40de-a916-1df8e54b4a29",
   "metadata": {},
   "source": [
    "También, hay funciones que pueden aceptar una cantidad indefinida de parametros - arma una función llamada promedio_calif que te diga el promedio de una cantidad arbitraria de calificaciones"
   ]
  },
  {
   "cell_type": "code",
   "execution_count": 578,
   "id": "a3fc7b58-87e9-441e-9772-14f961c0f1b4",
   "metadata": {},
   "outputs": [
    {
     "data": {
      "text/plain": [
       "5.0"
      ]
     },
     "execution_count": 578,
     "metadata": {},
     "output_type": "execute_result"
    }
   ],
   "source": [
    "def promedio(*calif):\n",
    "    return sum(calif)/len(calif)\n",
    "\n",
    "promedio(5,5,5,5,5,5)"
   ]
  },
  {
   "cell_type": "markdown",
   "id": "e3f6b2e9-4ed4-4c34-81b1-e60ca1b59bff",
   "metadata": {},
   "source": [
    "#### Por tu cuenta\n",
    "\n",
    "Arma una función que reciba una cantidad arbitraria de argumentos y calcule el producto de multiplicarlos todos entre ellos"
   ]
  },
  {
   "cell_type": "code",
   "execution_count": 580,
   "id": "1e1d13b9-3cb1-43e5-9cf9-b6da52643a78",
   "metadata": {},
   "outputs": [
    {
     "name": "stdout",
     "output_type": "stream",
     "text": [
      "24\n",
      "50\n"
     ]
    }
   ],
   "source": [
    "def producto(*numeros):\n",
    "    resultado = 1\n",
    "    for num in numeros:\n",
    "        resultado *= num\n",
    "    return resultado\n",
    "\n",
    "print(producto(2, 3, 4))\n",
    "print(producto(5, 10))\n"
   ]
  },
  {
   "cell_type": "markdown",
   "id": "6892461b-49af-466b-b947-2e649586b5d5",
   "metadata": {},
   "source": [
    "## 4.6.- Alcance Local y Global"
   ]
  },
  {
   "cell_type": "markdown",
   "id": "1c759b58-4b0f-4e11-9a61-af3ee94a26e6",
   "metadata": {},
   "source": [
    "Recordemos nuestra función de raiz cuadrada"
   ]
  },
  {
   "cell_type": "code",
   "execution_count": 13,
   "id": "47693ade-1834-4d6f-b5d2-1582b62d02af",
   "metadata": {},
   "outputs": [
    {
     "data": {
      "text/plain": [
       "4.0"
      ]
     },
     "execution_count": 13,
     "metadata": {},
     "output_type": "execute_result"
    }
   ],
   "source": [
    "def raiz_cuad(numero = 1):\n",
    "    return numero ** (1/2)\n",
    "\n",
    "raiz_cuad(16)"
   ]
  },
  {
   "cell_type": "markdown",
   "id": "92d9d3b6-d1ae-480d-9026-b605aa24245f",
   "metadata": {},
   "source": [
    "Define la variable aprox pi =3.141 y luego define una función que llame a esta variable de acceso global"
   ]
  },
  {
   "cell_type": "code",
   "execution_count": 3,
   "id": "51ad55ab",
   "metadata": {},
   "outputs": [
    {
     "name": "stdout",
     "output_type": "stream",
     "text": [
      "Modificación de aprox_pi como: 3.1416\n"
     ]
    }
   ],
   "source": [
    "def intento_modificar_global_pi(aprox_pi):\n",
    "    aprox_pi=3.1416\n",
    "    print('Modificación de aprox_pi como:',aprox_pi)\n",
    "\n",
    "intento_modificar_global_pi()"
   ]
  },
  {
   "cell_type": "markdown",
   "id": "90a3042c-1f46-4ef1-9f19-9cae0aeae31f",
   "metadata": {},
   "source": [
    "Intenta modificar aprox pi desde una función - verás que python no lo hace, solo modifica una copia"
   ]
  },
  {
   "cell_type": "markdown",
   "id": "5e3fc9f1-f1c8-419e-a7ad-ad015daa9ada",
   "metadata": {},
   "source": [
    "## 4.7.- El módulo de matemáticas de Python"
   ]
  },
  {
   "cell_type": "markdown",
   "id": "66a15356-6461-4202-a7d0-56526d3c1536",
   "metadata": {},
   "source": [
    "Calcula el log10 de 1000"
   ]
  },
  {
   "cell_type": "code",
   "execution_count": 8,
   "id": "d04ec048-5865-4040-a3f2-3b3cbcb1d40a",
   "metadata": {},
   "outputs": [
    {
     "ename": "NameError",
     "evalue": "name 'log10' is not defined",
     "output_type": "error",
     "traceback": [
      "\u001b[0;31m---------------------------------------------------------------------------\u001b[0m",
      "\u001b[0;31mNameError\u001b[0m                                 Traceback (most recent call last)",
      "Cell \u001b[0;32mIn[8], line 1\u001b[0m\n\u001b[0;32m----> 1\u001b[0m \u001b[43mlog10\u001b[49m(\u001b[38;5;241m1000\u001b[39m)\n",
      "\u001b[0;31mNameError\u001b[0m: name 'log10' is not defined"
     ]
    }
   ],
   "source": [
    "log10(1000)"
   ]
  },
  {
   "cell_type": "markdown",
   "id": "2db1131d-227b-46fe-aa43-ea83fd7ff1bc",
   "metadata": {},
   "source": [
    "Importa la librería math"
   ]
  },
  {
   "cell_type": "code",
   "execution_count": null,
   "id": "4252d1a8-4e52-43d1-a5a4-045def644677",
   "metadata": {},
   "outputs": [],
   "source": [
    "import math"
   ]
  },
  {
   "cell_type": "markdown",
   "id": "4cebaf0a-a127-4a90-971a-a306d39ebc10",
   "metadata": {},
   "source": [
    "ahora si, calcula el log10 de 1000"
   ]
  },
  {
   "cell_type": "code",
   "execution_count": 10,
   "id": "47bf2d24-fcb4-4907-92e7-af142e2afded",
   "metadata": {},
   "outputs": [
    {
     "data": {
      "text/plain": [
       "3.0"
      ]
     },
     "execution_count": 10,
     "metadata": {},
     "output_type": "execute_result"
    }
   ],
   "source": [
    "import math\n",
    "math.log10(1000)"
   ]
  },
  {
   "cell_type": "markdown",
   "id": "1494d2e2-c5f0-4426-bd28-3ccea38d7b09",
   "metadata": {},
   "source": [
    "## 4.8.- Medidas de tendencia central y Dispersión"
   ]
  },
  {
   "cell_type": "markdown",
   "id": "68b9172a-f029-4f3c-83d1-545ff8937e5a",
   "metadata": {},
   "source": [
    "Importa la librería d eestadistica, y crea una lista de calificaciones aleatorias entre 50 y 100"
   ]
  },
  {
   "cell_type": "markdown",
   "id": "829029d7",
   "metadata": {},
   "source": [
    "Calcula las medidas de tendencia central"
   ]
  },
  {
   "cell_type": "markdown",
   "id": "e639d92e",
   "metadata": {},
   "source": [
    "Calcula las medidas de dispersión"
   ]
  },
  {
   "cell_type": "code",
   "execution_count": 11,
   "id": "06d77b88-6f25-4ee2-81c9-deb91bde85d4",
   "metadata": {},
   "outputs": [
    {
     "name": "stdout",
     "output_type": "stream",
     "text": [
      "Las medidas de tendencia central son:\n",
      "Media=    81.3\n",
      "Mediana=  80.0\n",
      "Moda=     80\n",
      "Las medidas de dispersión son:\n",
      "Rango= 32\n",
      "Varianza= 110.210\n",
      "Desv. Estándar= 10.498\n"
     ]
    }
   ],
   "source": [
    "# ejemplo3_C4.py\n",
    "\"\"\" Medidas de tendencia central y de dispersión.\"\"\"\n",
    "import statistics as estad\n",
    "#Calificaciones\n",
    "calificaciones= [68, 90, 80, 100, 80, 75, 85, 95, 70, 70]\n",
    "# Medidas de tendencia central\n",
    "media=estad.mean(calificaciones)\n",
    "mediana=estad.median(calificaciones)\n",
    "moda=estad.mode(calificaciones)\n",
    "# Medidas de dispersión\n",
    "rango=max(calificaciones)-min(calificaciones)\n",
    "varianza=estad.pvariance(calificaciones)\n",
    "desv_estandar=estad.pstdev(calificaciones)\n",
    "print('Las medidas de tendencia central son:')\n",
    "print(f'Media= {media:>7}')\n",
    "print(f'Mediana= {mediana:>5}')\n",
    "print(f'Moda= {moda:>6}')\n",
    "print('Las medidas de dispersión son:')\n",
    "print(f'Rango= {rango:>2}')\n",
    "print(f'Varianza= {varianza:>0.3f}')\n",
    "print(f'Desv. Estándar= {desv_estandar:>0.3f}')"
   ]
  },
  {
   "cell_type": "markdown",
   "id": "e55f2a84-65b1-4e86-b4d4-9be69022fdc2",
   "metadata": {},
   "source": [
    "#### Por tu cuenta\n",
    "\n",
    "Para los numeros del 1 al 20, calcula la varianza y la desviacion estandar - compara con la varianza poblacional y la desviacion estandar poblacional"
   ]
  },
  {
   "cell_type": "code",
   "execution_count": 12,
   "id": "fbf0601d",
   "metadata": {},
   "outputs": [
    {
     "name": "stdout",
     "output_type": "stream",
     "text": [
      "Varianza (muestra) manual: 35.0\n",
      "Desviación estándar (muestra) manual: 5.916079783099616\n",
      "Varianza (muestra) usando statistics: 35\n",
      "Desviación estándar (muestra) usando statistics: 5.916079783099616\n",
      "Varianza poblacional usando statistics: 33.25\n",
      "Desviación estándar poblacional usando statistics: 5.766281297335398\n"
     ]
    }
   ],
   "source": [
    "import statistics as estad\n",
    "\n",
    "numeros = list(range(1, 21))\n",
    "\n",
    "media = sum(numeros) / len(numeros)\n",
    "varianza_manual = sum((x - media) ** 2 for x in numeros) / (len(numeros) - 1)  # Muestra de varianza\n",
    "desviacion_estandar_manual = varianza_manual ** 0.5\n",
    "\n",
    "varianza_muestra = estad.variance(numeros)\n",
    "desviacion_estandar_muestra = estad.stdev(numeros)\n",
    "\n",
    "varianza_poblacional = estad.pvariance(numeros)\n",
    "desviacion_estandar_poblacional = estad.pstdev(numeros)\n",
    "\n",
    "print(f\"Varianza (muestra) manual: {varianza_manual}\")\n",
    "print(f\"Desviación estándar (muestra) manual: {desviacion_estandar_manual}\")\n",
    "print(f\"Varianza (muestra) usando statistics: {varianza_muestra}\")\n",
    "print(f\"Desviación estándar (muestra) usando statistics: {desviacion_estandar_muestra}\")\n",
    "print(f\"Varianza poblacional usando statistics: {varianza_poblacional}\")\n",
    "print(f\"Desviación estándar poblacional usando statistics: {desviacion_estandar_poblacional}\")\n"
   ]
  }
 ],
 "metadata": {
  "kernelspec": {
   "display_name": "Python 3 (ipykernel)",
   "language": "python",
   "name": "python3"
  },
  "language_info": {
   "codemirror_mode": {
    "name": "ipython",
    "version": 3
   },
   "file_extension": ".py",
   "mimetype": "text/x-python",
   "name": "python",
   "nbconvert_exporter": "python",
   "pygments_lexer": "ipython3",
   "version": "3.13.2"
  }
 },
 "nbformat": 4,
 "nbformat_minor": 5
}
